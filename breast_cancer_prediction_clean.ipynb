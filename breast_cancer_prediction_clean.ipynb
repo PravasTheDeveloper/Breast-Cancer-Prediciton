{
  "cells": [
    {
      "cell_type": "code",
      "execution_count": null,
      "metadata": {
        "vscode": {
          "languageId": "plaintext"
        }
      },
      "outputs": [],
      "source": [
        "# 🏥 Breast Cancer Prediction Using Machine Learning\n",
        "\n",
        "**Author:** Pravas Chandra Sarkar  \n",
        "**Student ID:** CSE 075 08307  \n",
        "**Batch:** 75  \n",
        "\n",
        "This notebook implements a comprehensive breast cancer prediction system using multiple machine learning algorithms.\n",
        "\n",
        "## 📊 Key Features:\n",
        "- 🤖 **5 Machine Learning Models** (Naive Bayes, Logistic Regression, SVM, KNN, Random Forest)\n",
        "- 📈 **Comprehensive Data Analysis** with visualizations\n",
        "- 🎮 **Interactive Prediction Interface**\n",
        "- 🎯 **High Accuracy** performance metrics\n",
        "\n",
        "---\n"
      ]
    },
    {
      "cell_type": "code",
      "execution_count": null,
      "metadata": {
        "vscode": {
          "languageId": "plaintext"
        }
      },
      "outputs": [],
      "source": [
        "## 📦 Import Required Libraries\n"
      ]
    },
    {
      "cell_type": "code",
      "execution_count": null,
      "metadata": {},
      "outputs": [],
      "source": [
        "# Core Libraries\n",
        "import pandas as pd\n",
        "import matplotlib.pyplot as plt\n",
        "import seaborn as sns\n",
        "import numpy as np\n",
        "import warnings\n",
        "warnings.filterwarnings(\"ignore\")\n",
        "\n",
        "# Machine Learning Libraries\n",
        "from sklearn.preprocessing import LabelEncoder, StandardScaler\n",
        "from sklearn.model_selection import train_test_split\n",
        "from sklearn import metrics\n",
        "from sklearn.metrics import confusion_matrix, make_scorer, roc_auc_score, accuracy_score\n",
        "from sklearn.model_selection import cross_validate\n",
        "from sklearn.linear_model import LogisticRegression\n",
        "from sklearn.svm import SVC\n",
        "from sklearn.neighbors import KNeighborsClassifier\n",
        "from sklearn.ensemble import RandomForestClassifier\n",
        "from sklearn.naive_bayes import GaussianNB\n",
        "\n",
        "# Interactive Widgets (for Colab/Jupyter)\n",
        "try:\n",
        "    import ipywidgets as widgets\n",
        "    from IPython.display import display, clear_output\n",
        "    import plotly.express as px\n",
        "    import plotly.graph_objects as go\n",
        "    from plotly.subplots import make_subplots\n",
        "    WIDGETS_AVAILABLE = True\n",
        "except ImportError:\n",
        "    print(\"Note: Interactive widgets not available. Core functionality will work.\")\n",
        "    WIDGETS_AVAILABLE = False\n",
        "\n",
        "print(\"✅ All libraries imported successfully!\")\n"
      ]
    },
    {
      "cell_type": "code",
      "execution_count": null,
      "metadata": {},
      "outputs": [],
      "source": [
        "## 📊 Load and Explore Data\n"
      ]
    },
    {
      "cell_type": "code",
      "execution_count": null,
      "metadata": {},
      "outputs": [],
      "source": [
        "# Load the breast cancer dataset\n",
        "df = pd.read_csv('data.csv')\n",
        "\n",
        "print(\"=== DATA OVERVIEW ===\")\n",
        "print(f\"Dataset shape: {df.shape}\")\n",
        "print(f\"\\nColumns: {len(df.columns)}\")\n",
        "print(f\"\\nFirst 5 rows:\")\n",
        "df.head()\n"
      ]
    }
  ],
  "metadata": {
    "language_info": {
      "name": "python"
    }
  },
  "nbformat": 4,
  "nbformat_minor": 2
}
